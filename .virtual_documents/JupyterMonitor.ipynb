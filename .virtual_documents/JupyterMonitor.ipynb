import pandas as pd
import numpy as np

data_frame = pd.read_excel('..\..\OneDrive\Documentos\Main.xlsx', sheet_name='data') #importing the data

assets = np.array(data_frame['ASSETS'])
sumAssets = np.sum(assets)

p = np.array(data_frame['PRODUCTIVITY'])
f = np.array(data_frame['FIXED'])
c = np.array(data_frame['CLOTHES'])
fo = np.array(data_frame['FOOD'])
o = np.array(data_frame['OTHERS'])
cashout = np.array(data_frame['CASHOUT'])
save = np.array(data_frame['SAVE'])

left = np.array(data_frame['LEFT']) #almacena toda la columna de 'Resto'

totGastos = np.array([p, f, c, fo, o, cashout, save])
sumGastos = np.sum(totGastos)

def getPercent(a):
    percentField = np.sum(a)/sumGastos
    return percentField

listaGastos = {'PRODUCTIVITY': p,
               'FIXED': f,
               'CLOTHES': c,
               'FOOD': fo,
               'OTHERS': o,
               'CASHOUT': cashout,
               'SAVE': save}

acum = 0
acumS = 0
for i in listaGastos:
    print(f'{i}: [{round((getPercent(listaGastos[i])*100),2)}% / S/{round(np.sum(listaGastos[i]),2)}]')
    acum+=getPercent(listaGastos[i])
    acumS+=np.sum(listaGastos[i])
print(f'TOTAL: [{round(acum*100,2)}% / S/{round(acumS,2)}]')




