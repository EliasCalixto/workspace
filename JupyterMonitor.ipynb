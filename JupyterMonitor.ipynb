{
 "cells": [
  {
   "cell_type": "code",
   "execution_count": 6,
   "id": "1f2c633e-6871-4780-b07f-4599d1422b35",
   "metadata": {},
   "outputs": [
    {
     "name": "stdout",
     "output_type": "stream",
     "text": [
      "PRODUCTIVITY: [39.45% / S/29101.97]\n",
      "FIXED: [19.47% / S/14362.51]\n",
      "CLOTHES: [5.05% / S/3727.6]\n",
      "FOOD: [6.69% / S/4937.24]\n",
      "OTHERS: [16.29% / S/12013.68]\n",
      "CASHOUT: [9.26% / S/6828.29]\n",
      "SAVE: [3.8% / S/2800]\n",
      "TOTAL: [100.0% / S/73771.29]\n"
     ]
    }
   ],
   "source": [
    "import pandas as pd\n",
    "import numpy as np\n",
    "\n",
    "\n",
    "try:\n",
    "    data_frame = pd.read_excel(\"C:\\\\Users\\\\elias\\\\OneDrive\\\\Documentos\\\\Main.xlsx\", sheet_name='data')\n",
    "except:\n",
    "    data_frame = pd.read_excel(\"/Users/darkesthj/Library/CloudStorage/OneDrive-Personal/Documentos/Main.xlsx\", sheet_name='data')\n",
    "\n",
    "assets = np.array(data_frame['ASSETS'])\n",
    "sumAssets = np.sum(assets)\n",
    "\n",
    "p = np.array(data_frame['PRODUCTIVITY'])\n",
    "f = np.array(data_frame['FIXED'])\n",
    "c = np.array(data_frame['CLOTHES'])\n",
    "fo = np.array(data_frame['FOOD'])\n",
    "o = np.array(data_frame['OTHERS'])\n",
    "cashout = np.array(data_frame['CASHOUT'])\n",
    "save = np.array(data_frame['SAVE'])\n",
    "\n",
    "left = np.array(data_frame['LEFT']) #almacena toda la columna de 'Resto'\n",
    "\n",
    "totGastos = np.array([p, f, c, fo, o, cashout, save])\n",
    "sumGastos = np.sum(totGastos)\n",
    "\n",
    "def getPercent(a):\n",
    "    percentField = np.sum(a)/sumGastos\n",
    "    return percentField\n",
    "\n",
    "listaGastos = {'PRODUCTIVITY': p,\n",
    "               'FIXED': f,\n",
    "               'CLOTHES': c,\n",
    "               'FOOD': fo,\n",
    "               'OTHERS': o,\n",
    "               'CASHOUT': cashout,\n",
    "               'SAVE': save}\n",
    "\n",
    "acum = 0\n",
    "acumS = 0\n",
    "for i in listaGastos:\n",
    "    print(f'{i}: [{round((getPercent(listaGastos[i])*100),2)}% / S/{round(np.sum(listaGastos[i]),2)}]')\n",
    "    acum+=getPercent(listaGastos[i])\n",
    "    acumS+=np.sum(listaGastos[i])\n",
    "print(f'TOTAL: [{round(acum*100,2)}% / S/{round(acumS,2)}]')\n"
   ]
  },
  {
   "cell_type": "code",
   "execution_count": null,
   "id": "508733e3-dba2-4753-9b81-57693a6ca070",
   "metadata": {},
   "outputs": [],
   "source": []
  }
 ],
 "metadata": {
  "kernelspec": {
   "display_name": "Python 3 (ipykernel)",
   "language": "python",
   "name": "python3"
  },
  "language_info": {
   "codemirror_mode": {
    "name": "ipython",
    "version": 3
   },
   "file_extension": ".py",
   "mimetype": "text/x-python",
   "name": "python",
   "nbconvert_exporter": "python",
   "pygments_lexer": "ipython3",
   "version": "3.11.5"
  }
 },
 "nbformat": 4,
 "nbformat_minor": 5
}
